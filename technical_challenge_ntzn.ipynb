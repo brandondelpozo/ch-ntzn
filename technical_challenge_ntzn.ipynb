{
  "nbformat": 4,
  "nbformat_minor": 0,
  "metadata": {
    "colab": {
      "provenance": [],
      "authorship_tag": "ABX9TyPSGj2BDGDqr9WsK3Ik4Akf",
      "include_colab_link": true
    },
    "kernelspec": {
      "name": "python3",
      "display_name": "Python 3"
    },
    "language_info": {
      "name": "python"
    }
  },
  "cells": [
    {
      "cell_type": "markdown",
      "metadata": {
        "id": "view-in-github",
        "colab_type": "text"
      },
      "source": [
        "<a href=\"https://colab.research.google.com/github/brandondelpozo/ch-ntzn/blob/master/technical_challenge_ntzn.ipynb\" target=\"_parent\"><img src=\"https://colab.research.google.com/assets/colab-badge.svg\" alt=\"Open In Colab\"/></a>"
      ]
    },
    {
      "cell_type": "code",
      "execution_count": 17,
      "metadata": {
        "id": "5EsLFR1tw8P8"
      },
      "outputs": [],
      "source": [
        "# By definition a fibonacci number is defined by the following secuence\n",
        "# f(n) = f(n-1) + f(n-2)"
      ]
    },
    {
      "cell_type": "code",
      "source": [
        "# Defining the function fibonacci as fib()\n",
        "def fib(n):\n",
        "  if n in {0, 1}:  # Base case\n",
        "    return n\n",
        "  return fib(n - 1) + fib(n - 2)  # Recursive case"
      ],
      "metadata": {
        "id": "OgRRHmOYxpY1"
      },
      "execution_count": 18,
      "outputs": []
    },
    {
      "cell_type": "code",
      "source": [
        "# testing function fib()\n",
        "print(\"fib(0):\", fib(0))\n",
        "print(\"fib(1):\", fib(1))\n",
        "print(\"fib(2):\", fib(2))\n",
        "print(\"fib(3):\", fib(3))\n",
        "print(\"fib(4):\", fib(4))\n",
        "print(\"fib(5):\", fib(5))\n",
        "print(\"fib(6):\", fib(6))\n",
        "print(\"fib(7):\", fib(7))\n",
        "print(\"fib(8):\", fib(8))\n",
        "\n",
        "\n",
        "lst = [fib(n) for n in range(6)]\n",
        "print(lst)"
      ],
      "metadata": {
        "colab": {
          "base_uri": "https://localhost:8080/",
          "height": 0
        },
        "id": "E-ml0Lrnxpdp",
        "outputId": "df30490a-13b9-4c6b-9aa7-8247ffdaa115"
      },
      "execution_count": 19,
      "outputs": [
        {
          "output_type": "stream",
          "name": "stdout",
          "text": [
            "fib(0): 0\n",
            "fib(1): 1\n",
            "fib(2): 1\n",
            "fib(3): 2\n",
            "fib(4): 3\n",
            "fib(5): 5\n",
            "fib(6): 8\n",
            "fib(7): 13\n",
            "fib(8): 21\n",
            "[0, 1, 1, 2, 3, 5]\n"
          ]
        }
      ]
    },
    {
      "cell_type": "code",
      "source": [
        "# calculate number of calls of fib(n) = 2.(fib(n+1)-1)  # source: https://stackoverflow.com/questions/21134889/recursive-calls-for-fibonacci-sequence"
      ],
      "metadata": {
        "id": "6LQ7K4uZ-W94"
      },
      "execution_count": 20,
      "outputs": []
    },
    {
      "cell_type": "code",
      "source": [
        "# definig function fcalls, which represent number of calls of fib(n)\n",
        "def fcalls(n):\n",
        "  return 2*(fib(n+1)-1)\n",
        "\n",
        "# testing function fcalls\n",
        "n = 4\n",
        "print(f'fib({n}) calls: {fcalls(4)}')\n",
        "\n",
        "n = 5\n",
        "print(f'fib({n}) calls: {fcalls(5)}')"
      ],
      "metadata": {
        "colab": {
          "base_uri": "https://localhost:8080/",
          "height": 0
        },
        "id": "jx2MKOhWFOLk",
        "outputId": "222f8ac9-5d32-4998-920c-13504d5a05b8"
      },
      "execution_count": 21,
      "outputs": [
        {
          "output_type": "stream",
          "name": "stdout",
          "text": [
            "fib(4) calls: 8\n",
            "fib(5) calls: 14\n"
          ]
        }
      ]
    },
    {
      "cell_type": "code",
      "source": [
        "# As we previosly defined the function fobacci as fib() as fibonacci calls as fcalls we can use it (call the function) in the following script:\n",
        "n = 1\n",
        "while n>0 and n<6:\n",
        "    print(f'fib({n}): {fib(n)}')\n",
        "    print(f'fib({n}) calls: {fcalls(n)} \\n') \n",
        "    n+=1"
      ],
      "metadata": {
        "colab": {
          "base_uri": "https://localhost:8080/",
          "height": 0
        },
        "id": "GO-2RUvfH2Mz",
        "outputId": "12aa3ab9-29be-4cea-9db6-7197b4f2ed70"
      },
      "execution_count": 22,
      "outputs": [
        {
          "output_type": "stream",
          "name": "stdout",
          "text": [
            "fib(1): 1\n",
            "fib(1) calls: 0 \n",
            "\n",
            "fib(2): 1\n",
            "fib(2) calls: 2 \n",
            "\n",
            "fib(3): 2\n",
            "fib(3) calls: 4 \n",
            "\n",
            "fib(4): 3\n",
            "fib(4) calls: 8 \n",
            "\n",
            "fib(5): 5\n",
            "fib(5) calls: 14 \n",
            "\n"
          ]
        }
      ]
    },
    {
      "cell_type": "code",
      "source": [
        "#f(1) calls based in fib(n) = (n-1+1)  # target number - desired number + 1  # Source: https://stackoverflow.com/questions/21134889/recursive-calls-for-fibonacci-sequence\n",
        "#f(0) calls based in fib(n) = fib(n-1)  \n",
        "\n",
        "n = 1\n",
        "while n>0 and n<40:\n",
        "    print(f'fib({n}): {fib(n)}')\n",
        "    print(f'fib({n}) calls: {fcalls(n)}')\n",
        "    print(f'f(0): {fib(n-1)}')  # num_of_f0_calls\n",
        "    print(f'f(1): {fib(n)}\\n')  # num_of_f1_calls\n",
        "    n+=1\n"
      ],
      "metadata": {
        "id": "HImKRdQMfhh6",
        "colab": {
          "base_uri": "https://localhost:8080/"
        },
        "outputId": "c1cf5d1a-89d0-4315-8462-3fec994669de"
      },
      "execution_count": 32,
      "outputs": [
        {
          "output_type": "stream",
          "name": "stdout",
          "text": [
            "fib(1): 1\n",
            "fib(1) calls: 0\n",
            "f(0): 0\n",
            "f(1): 1\n",
            "\n",
            "fib(2): 1\n",
            "fib(2) calls: 2\n",
            "f(0): 1\n",
            "f(1): 1\n",
            "\n",
            "fib(3): 2\n",
            "fib(3) calls: 4\n",
            "f(0): 1\n",
            "f(1): 2\n",
            "\n",
            "fib(4): 3\n",
            "fib(4) calls: 8\n",
            "f(0): 2\n",
            "f(1): 3\n",
            "\n",
            "fib(5): 5\n",
            "fib(5) calls: 14\n",
            "f(0): 3\n",
            "f(1): 5\n",
            "\n",
            "fib(6): 8\n",
            "fib(6) calls: 24\n",
            "f(0): 5\n",
            "f(1): 8\n",
            "\n",
            "fib(7): 13\n",
            "fib(7) calls: 40\n",
            "f(0): 8\n",
            "f(1): 13\n",
            "\n",
            "fib(8): 21\n",
            "fib(8) calls: 66\n",
            "f(0): 13\n",
            "f(1): 21\n",
            "\n",
            "fib(9): 34\n",
            "fib(9) calls: 108\n",
            "f(0): 21\n",
            "f(1): 34\n",
            "\n",
            "fib(10): 55\n",
            "fib(10) calls: 176\n",
            "f(0): 34\n",
            "f(1): 55\n",
            "\n",
            "fib(11): 89\n",
            "fib(11) calls: 286\n",
            "f(0): 55\n",
            "f(1): 89\n",
            "\n",
            "fib(12): 144\n",
            "fib(12) calls: 464\n",
            "f(0): 89\n",
            "f(1): 144\n",
            "\n",
            "fib(13): 233\n",
            "fib(13) calls: 752\n",
            "f(0): 144\n",
            "f(1): 233\n",
            "\n",
            "fib(14): 377\n",
            "fib(14) calls: 1218\n",
            "f(0): 233\n",
            "f(1): 377\n",
            "\n",
            "fib(15): 610\n",
            "fib(15) calls: 1972\n",
            "f(0): 377\n",
            "f(1): 610\n",
            "\n",
            "fib(16): 987\n",
            "fib(16) calls: 3192\n",
            "f(0): 610\n",
            "f(1): 987\n",
            "\n",
            "fib(17): 1597\n",
            "fib(17) calls: 5166\n",
            "f(0): 987\n",
            "f(1): 1597\n",
            "\n",
            "fib(18): 2584\n",
            "fib(18) calls: 8360\n",
            "f(0): 1597\n",
            "f(1): 2584\n",
            "\n",
            "fib(19): 4181\n",
            "fib(19) calls: 13528\n",
            "f(0): 2584\n",
            "f(1): 4181\n",
            "\n",
            "fib(20): 6765\n",
            "fib(20) calls: 21890\n",
            "f(0): 4181\n",
            "f(1): 6765\n",
            "\n",
            "fib(21): 10946\n",
            "fib(21) calls: 35420\n",
            "f(0): 6765\n",
            "f(1): 10946\n",
            "\n",
            "fib(22): 17711\n",
            "fib(22) calls: 57312\n",
            "f(0): 10946\n",
            "f(1): 17711\n",
            "\n",
            "fib(23): 28657\n",
            "fib(23) calls: 92734\n",
            "f(0): 17711\n",
            "f(1): 28657\n",
            "\n",
            "fib(24): 46368\n",
            "fib(24) calls: 150048\n",
            "f(0): 28657\n",
            "f(1): 46368\n",
            "\n",
            "fib(25): 75025\n",
            "fib(25) calls: 242784\n",
            "f(0): 46368\n",
            "f(1): 75025\n",
            "\n",
            "fib(26): 121393\n",
            "fib(26) calls: 392834\n",
            "f(0): 75025\n",
            "f(1): 121393\n",
            "\n",
            "fib(27): 196418\n",
            "fib(27) calls: 635620\n",
            "f(0): 121393\n",
            "f(1): 196418\n",
            "\n",
            "fib(28): 317811\n",
            "fib(28) calls: 1028456\n",
            "f(0): 196418\n",
            "f(1): 317811\n",
            "\n",
            "fib(29): 514229\n",
            "fib(29) calls: 1664078\n",
            "f(0): 317811\n",
            "f(1): 514229\n",
            "\n",
            "fib(30): 832040\n",
            "fib(30) calls: 2692536\n",
            "f(0): 514229\n",
            "f(1): 832040\n",
            "\n",
            "fib(31): 1346269\n",
            "fib(31) calls: 4356616\n",
            "f(0): 832040\n",
            "f(1): 1346269\n",
            "\n",
            "fib(32): 2178309\n",
            "fib(32) calls: 7049154\n",
            "f(0): 1346269\n",
            "f(1): 2178309\n",
            "\n",
            "fib(33): 3524578\n",
            "fib(33) calls: 11405772\n",
            "f(0): 2178309\n",
            "f(1): 3524578\n",
            "\n",
            "fib(34): 5702887\n",
            "fib(34) calls: 18454928\n",
            "f(0): 3524578\n",
            "f(1): 5702887\n",
            "\n",
            "fib(35): 9227465\n",
            "fib(35) calls: 29860702\n",
            "f(0): 5702887\n",
            "f(1): 9227465\n",
            "\n",
            "fib(36): 14930352\n",
            "fib(36) calls: 48315632\n",
            "f(0): 9227465\n",
            "f(1): 14930352\n",
            "\n",
            "fib(37): 24157817\n",
            "fib(37) calls: 78176336\n",
            "f(0): 14930352\n",
            "f(1): 24157817\n",
            "\n",
            "fib(38): 39088169\n",
            "fib(38) calls: 126491970\n",
            "f(0): 24157817\n",
            "f(1): 39088169\n",
            "\n",
            "fib(39): 63245986\n",
            "fib(39) calls: 204668308\n",
            "f(0): 39088169\n",
            "f(1): 63245986\n",
            "\n"
          ]
        }
      ]
    },
    {
      "cell_type": "markdown",
      "source": [
        "2) 2nd task"
      ],
      "metadata": {
        "id": "h71KYxqYjLW3"
      }
    },
    {
      "cell_type": "code",
      "source": [
        "# x: given integer\n",
        "# k: number of operations\n",
        "def min_integer(x, k):\n",
        "    # Convert the given integer to a string\n",
        "    x_str = str(x)\n",
        "    \n",
        "    # Remove the leading zeros\n",
        "    x_str = x_str.lstrip(\"0\")\n",
        "    \n",
        "    # Initialize a new string to store the result\n",
        "    res = \"\"\n",
        "    \n",
        "    # Remove the smallest digit in x k times\n",
        "    for i in range(k):\n",
        "        # Find the smallest digit in the string\n",
        "        min_digit = min(x_str)\n",
        "        \n",
        "        # Remove the first occurrence of the smallest digit\n",
        "        x_str = x_str.replace(min_digit, \"\", 1)\n",
        "    \n",
        "    # Append the remaining digits to the result string\n",
        "    res += x_str\n",
        "    \n",
        "    # Return the result as an integer\n",
        "    return int(res)\n",
        "\n",
        "# Test the function\n",
        "print(min_integer(10000, 4))  # should print 1\n",
        "print(min_integer(1337, 0))   # should print 1337\n",
        "print(min_integer(987654321, 6))  # should print 321\n",
        "print(min_integer(66837494128, 5)) # should print 344128\n",
        "print(min_integer(7808652, 3))  # should print 7052"
      ],
      "metadata": {
        "colab": {
          "base_uri": "https://localhost:8080/"
        },
        "id": "aWnJCJbBjK1u",
        "outputId": "d7d8002b-ca96-4b97-a65f-b00a324c765c"
      },
      "execution_count": 34,
      "outputs": [
        {
          "output_type": "stream",
          "name": "stdout",
          "text": [
            "1\n",
            "1337\n",
            "987\n",
            "668798\n",
            "7886\n"
          ]
        }
      ]
    }
  ]
}